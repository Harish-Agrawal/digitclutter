{
 "cells": [
  {
   "cell_type": "code",
   "execution_count": 1,
   "metadata": {
    "collapsed": false
   },
   "outputs": [],
   "source": [
    "import sys\n",
    "sys.path.append('../')\n",
    "from os.path import abspath\n",
    "import matplotlib.pyplot as plt\n",
    "%matplotlib inline\n",
    "from digitclutter import generate, io\n"
   ]
  },
  {
   "cell_type": "markdown",
   "metadata": {},
   "source": [
    "## Generating samples\n",
    "Generate a number of clutter samples using default parameters and save them in in a list. A typical element of font set would be `'helvetica-bold'`, or `'arial-bold'` for Windows."
   ]
  },
  {
   "cell_type": "code",
   "execution_count": 2,
   "metadata": {
    "collapsed": false
   },
   "outputs": [],
   "source": [
    "n_samples = 10\n",
    "\n",
    "clutter_list = []\n",
    "\n",
    "for i in range(n_samples):\n",
    "    clutter_list += [generate.sample_clutter(font_set=['arial-bold'])]"
   ]
  },
  {
   "cell_type": "markdown",
   "metadata": {},
   "source": [
    "## Saving and reading image sets\n",
    "Save the parameters as a csv"
   ]
  },
  {
   "cell_type": "code",
   "execution_count": 3,
   "metadata": {
    "collapsed": false
   },
   "outputs": [],
   "source": [
    "clutter_list = io.name_files('test', clutter_list=clutter_list)\n",
    "\n",
    "io.save_image_set(clutter_list, 'test/test.csv')"
   ]
  },
  {
   "cell_type": "markdown",
   "metadata": {},
   "source": [
    "Read the image set"
   ]
  },
  {
   "cell_type": "code",
   "execution_count": 4,
   "metadata": {
    "collapsed": false
   },
   "outputs": [
    {
     "name": "stdout",
     "output_type": "stream",
     "text": [
      "[['1'], ['3'], ['4'], ['6'], ['6'], ['5'], ['1'], ['2'], ['6'], ['9']]\n",
      "[['1'], ['3'], ['4'], ['6'], ['6'], ['5'], ['1'], ['2'], ['6'], ['9']]\n"
     ]
    }
   ],
   "source": [
    "loaded_clutter_list = io.read_image_set('test/test.csv')\n",
    "print([cl.get_character_list() for cl in clutter_list])\n",
    "print([cl.get_character_list() for cl in loaded_clutter_list])"
   ]
  },
  {
   "cell_type": "markdown",
   "metadata": {},
   "source": [
    "## Rendering images\n",
    "Render the images"
   ]
  },
  {
   "cell_type": "code",
   "execution_count": 5,
   "metadata": {
    "collapsed": false
   },
   "outputs": [],
   "source": [
    "for cl in clutter_list:\n",
    "    cl.render_occlusion()"
   ]
  },
  {
   "cell_type": "markdown",
   "metadata": {},
   "source": [
    "## Saving as mat files\n",
    "Save 32x32 versions of the images in a mat file with the labels"
   ]
  },
  {
   "cell_type": "code",
   "execution_count": 6,
   "metadata": {
    "collapsed": false,
    "scrolled": true
   },
   "outputs": [
    {
     "name": "stdout",
     "output_type": "stream",
     "text": [
      "Using C:\\Users\\test146user\\Documents\\GitHub\\digitclutter\\example_script\\temp_workspace as the working directory\n",
      "Resizing the images\n",
      "Generating image arrays\n",
      "Generating target arrays\n",
      "Images and target arrays saved to C:\\Users\\test146user\\Documents\\GitHub\\digitclutter\\example_script\\test\\test.mat\n"
     ]
    }
   ],
   "source": [
    "fname_list = [cl.fname for cl in clutter_list]\n",
    "images_dict = io.save_images_as_mat(abspath('test/test.mat'), clutter_list, (32,32), fname_list=fname_list, overwrite_wdir=True)"
   ]
  },
  {
   "cell_type": "markdown",
   "metadata": {},
   "source": [
    "Plot as resized image"
   ]
  },
  {
   "cell_type": "code",
   "execution_count": 7,
   "metadata": {
    "collapsed": false
   },
   "outputs": [
    {
     "data": {
      "text/plain": [
       "<matplotlib.image.AxesImage at 0x1852f1d3160>"
      ]
     },
     "execution_count": 7,
     "metadata": {},
     "output_type": "execute_result"
    },
    {
     "data": {
      "image/png": "[encoded data removed]",
      "text/plain": [
       "<matplotlib.figure.Figure at 0x18531b29d30>"
      ]
     },
     "metadata": {},
     "output_type": "display_data"
    }
   ],
   "source": [
    "plt.matshow(images_dict['images'][0,:,:,0], cmap = plt.cm.gray, vmin=0, vmax=255)"
   ]
  },
  {
   "cell_type": "markdown",
   "metadata": {},
   "source": [
    "## Adding debris\n",
    "Add debris to the images using default debris parameters"
   ]
  },
  {
   "cell_type": "code",
   "execution_count": 8,
   "metadata": {
    "collapsed": false
   },
   "outputs": [
    {
     "name": "stdout",
     "output_type": "stream",
     "text": [
      "Using C:\\Users\\test146user\\Documents\\GitHub\\digitclutter\\example_script\\temp_workspace as the working directory\n"
     ]
    }
   ],
   "source": [
    "debris_array = generate.make_debris(n_samples, n_debris = [10,11])\n",
    "images_with_debris = generate.add_debris(images_dict['images'], debris_array)"
   ]
  },
  {
   "cell_type": "code",
   "execution_count": 9,
   "metadata": {
    "collapsed": false
   },
   "outputs": [
    {
     "data": {
      "text/plain": [
       "<matplotlib.image.AxesImage at 0x18531f70e48>"
      ]
     },
     "execution_count": 9,
     "metadata": {},
     "output_type": "execute_result"
    },
    {
     "data": {
      "image/png": "[encoded data removed]",
      "text/plain": [
       "<matplotlib.figure.Figure at 0x1852f4369e8>"
      ]
     },
     "metadata": {},
     "output_type": "display_data"
    }
   ],
   "source": [
    "plt.matshow(images_with_debris[0,:,:,0], cmap=plt.cm.gray, vmin=0, vmax=255)"
   ]
  }
 ],
 "metadata": {
  "kernelspec": {
   "display_name": "Python 3",
   "language": "python",
   "name": "python3"
  },
  "language_info": {
   "codemirror_mode": {
    "name": "ipython",
    "version": 3
   },
   "file_extension": ".py",
   "mimetype": "text/x-python",
   "name": "python",
   "nbconvert_exporter": "python",
   "pygments_lexer": "ipython3",
   "version": "3.6.0"
  }
 },
 "nbformat": 4,
 "nbformat_minor": 0
}
