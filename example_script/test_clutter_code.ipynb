{
 "cells": [
  {
   "cell_type": "code",
   "execution_count": 1,
   "metadata": {
    "collapsed": true
   },
   "outputs": [],
   "source": [
    "from os.path import abspath\n",
    "import matplotlib.pyplot as plt\n",
    "%matplotlib inline\n",
    "from digitclutter import generate, io"
   ]
  },
  {
   "cell_type": "markdown",
   "metadata": {},
   "source": [
    "## Generating samples\n",
    "Generate a number of clutter samples using default parameters and save them in in a list"
   ]
  },
  {
   "cell_type": "code",
   "execution_count": 3,
   "metadata": {
    "collapsed": false
   },
   "outputs": [],
   "source": [
    "n_samples = 10\n",
    "\n",
    "clutter_list = []\n",
    "\n",
    "for i in range(n_samples):\n",
    "    clutter_list += [generate.sample_clutter()]"
   ]
  },
  {
   "cell_type": "markdown",
   "metadata": {},
   "source": [
    "## Saving and reading image sets\n",
    "Save the parameters as a csv"
   ]
  },
  {
   "cell_type": "code",
   "execution_count": 4,
   "metadata": {
    "collapsed": false
   },
   "outputs": [],
   "source": [
    "clutter_list = io.name_files('test', clutter_list=clutter_list)\n",
    "\n",
    "io.save_image_set(clutter_list, 'test/test.csv')"
   ]
  },
  {
   "cell_type": "markdown",
   "metadata": {},
   "source": [
    "Read the image set"
   ]
  },
  {
   "cell_type": "code",
   "execution_count": 5,
   "metadata": {
    "collapsed": false
   },
   "outputs": [
    {
     "name": "stdout",
     "output_type": "stream",
     "text": [
      "[['4'], ['7'], ['9'], ['3'], ['5'], ['6'], ['3'], ['8'], ['9'], ['3']]\n",
      "[['4'], ['7'], ['9'], ['3'], ['5'], ['6'], ['3'], ['8'], ['9'], ['3']]\n"
     ]
    }
   ],
   "source": [
    "loaded_clutter_list = io.read_image_set('test/test.csv')\n",
    "print([cl.get_character_list() for cl in clutter_list][:10])\n",
    "print([cl.get_character_list() for cl in loaded_clutter_list][:10])"
   ]
  },
  {
   "cell_type": "markdown",
   "metadata": {},
   "source": [
    "## Rendering images\n",
    "Render the images"
   ]
  },
  {
   "cell_type": "code",
   "execution_count": 6,
   "metadata": {
    "collapsed": false
   },
   "outputs": [],
   "source": [
    "for cl in clutter_list:\n",
    "    cl.render_occlusion()"
   ]
  },
  {
   "cell_type": "markdown",
   "metadata": {},
   "source": [
    "## Saving as mat files\n",
    "Save 32x32 versions of the images in a mat file with the labels"
   ]
  },
  {
   "cell_type": "code",
   "execution_count": 7,
   "metadata": {
    "collapsed": false,
    "scrolled": true
   },
   "outputs": [
    {
     "name": "stdout",
     "output_type": "stream",
     "text": [
      "Using /imaging/cs04/2017_DigitclutterCode/temp_workspace as the working directory\n",
      "Resizing the images\n",
      "Generating image arrays\n",
      "Generating target arrays\n",
      "Images and target arrays saved to /imaging/cs04/2017_DigitclutterCode/test/test.mat\n"
     ]
    }
   ],
   "source": [
    "fname_list = [cl.fname for cl in clutter_list]\n",
    "images_dict = io.save_images_as_mat(abspath('test/test.mat'), clutter_list, (32,32), fname_list=fname_list)"
   ]
  },
  {
   "cell_type": "markdown",
   "metadata": {},
   "source": [
    "Plot as resized image"
   ]
  },
  {
   "cell_type": "code",
   "execution_count": 8,
   "metadata": {
    "collapsed": false
   },
   "outputs": [
    {
     "data": {
      "text/plain": [
       "<matplotlib.image.AxesImage at 0x7f7d460c3a90>"
      ]
     },
     "execution_count": 8,
     "metadata": {},
     "output_type": "execute_result"
    },
    {
     "data": {
      "image/png": "[encoded data removed]",
      "text/plain": [
       "<matplotlib.figure.Figure at 0x7f7d583aab70>"
      ]
     },
     "metadata": {},
     "output_type": "display_data"
    }
   ],
   "source": [
    "plt.matshow(images_dict['images'][0,:,:,0], cmap = plt.cm.gray, vmin=0, vmax=255)"
   ]
  },
  {
   "cell_type": "markdown",
   "metadata": {},
   "source": [
    "## Adding debris\n",
    "Add debris to the images using default debris parameters"
   ]
  },
  {
   "cell_type": "code",
   "execution_count": 9,
   "metadata": {
    "collapsed": false
   },
   "outputs": [
    {
     "name": "stdout",
     "output_type": "stream",
     "text": [
      "Using /imaging/cs04/2017_DigitclutterCode/temp_workspace as the working directory\n"
     ]
    }
   ],
   "source": [
    "debris_array = generate.make_debris(n_samples)\n",
    "images_with_debris = generate.add_debris(images_dict['images'], debris_array)"
   ]
  },
  {
   "cell_type": "code",
   "execution_count": 10,
   "metadata": {
    "collapsed": false
   },
   "outputs": [
    {
     "data": {
      "text/plain": [
       "<matplotlib.image.AxesImage at 0x7f7d4607ceb8>"
      ]
     },
     "execution_count": 10,
     "metadata": {},
     "output_type": "execute_result"
    },
    {
     "data": {
      "image/png": "[encoded data removed]",
      "text/plain": [
       "<matplotlib.figure.Figure at 0x7f7d44c94cc0>"
      ]
     },
     "metadata": {},
     "output_type": "display_data"
    }
   ],
   "source": [
    "plt.matshow(images_with_debris[0,:,:,0], cmap=plt.cm.gray, vmin=0, vmax=255)"
   ]
  }
 ],
 "metadata": {
  "kernelspec": {
   "display_name": "Python 3",
   "language": "python",
   "name": "python3"
  },
  "language_info": {
   "codemirror_mode": {
    "name": "ipython",
    "version": 3
   },
   "file_extension": ".py",
   "mimetype": "text/x-python",
   "name": "python",
   "nbconvert_exporter": "python",
   "pygments_lexer": "ipython3",
   "version": "3.5.1"
  }
 },
 "nbformat": 4,
 "nbformat_minor": 0
}
